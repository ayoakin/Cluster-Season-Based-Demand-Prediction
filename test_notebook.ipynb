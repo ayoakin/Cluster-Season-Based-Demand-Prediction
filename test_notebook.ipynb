{
 "cells": [
  {
   "cell_type": "markdown",
   "id": "c543f911",
   "metadata": {},
   "source": [
    "### Test Notebook\n",
    "I wanted to test out creating a notebook and committing it to the repository, and will alter delete this notebook.\n",
    "\n",
    "At the end of Sprint 3, on person from our team needs will submit:\n",
    "1. A one-page report, arguing (and supporting with reasoning and evidence) that your data is ready to be used for training and evaluation of models.\n",
    "2. A link to your GitHub repository in your report that contains your code.\n"
   ]
  },
  {
   "cell_type": "markdown",
   "id": "da9a7715",
   "metadata": {},
   "source": [
    "#### Importing Libraries"
   ]
  },
  {
   "cell_type": "code",
   "execution_count": 1,
   "id": "8238906d",
   "metadata": {},
   "outputs": [],
   "source": [
    "import numpy as np\n",
    "import pandas as pd\n",
    "import matplotlib.pyplot as plt\n",
    "\n",
    "import sklearn\n",
    "from sklearn.model_selection import train_test_split\n",
    "from sklearn.preprocessing import StandardScaler\n",
    "from sklearn.metrics import accuracy_score, confusion_matrix\n",
    "\n",
    "import tensorflow as tf\n",
    "from tensorflow import keras\n",
    "from keras.models import Sequential\n",
    "from keras.layers import Dense, Conv2D, MaxPooling2D, Flatten, Dropout"
   ]
  },
  {
   "cell_type": "code",
   "execution_count": null,
   "id": "c6c4a381",
   "metadata": {},
   "outputs": [],
   "source": []
  }
 ],
 "metadata": {
  "kernelspec": {
   "display_name": "Python 3 (ipykernel)",
   "language": "python",
   "name": "python3"
  },
  "language_info": {
   "codemirror_mode": {
    "name": "ipython",
    "version": 3
   },
   "file_extension": ".py",
   "mimetype": "text/x-python",
   "name": "python",
   "nbconvert_exporter": "python",
   "pygments_lexer": "ipython3",
   "version": "3.12.9"
  }
 },
 "nbformat": 4,
 "nbformat_minor": 5
}
